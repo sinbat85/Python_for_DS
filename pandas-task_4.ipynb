#Задание 4
#Создайте датафрейм authors_stat на основе информации из authors_price. В датафрейме authors_stat должны быть четыре столбца:
#author_name, min_price, max_price и mean_price,
#в которых должны содержаться соответственно имя автора, минимальная, максимальная и средняя цена на книги этого автора.


import pandas as pd

authors = pd.DataFrame({
    'author_id': [1, 2, 3],
    'author_name': ['Тургенев', 'Чехов', 'Островский'],
})

authors

book = pd.DataFrame({
    'author_id': [1, 1, 1, 2, 2, 3, 3],
    'book_title': ['Отцы и дети', 'Рудин', 'Дворянское гнездо', 'Толстый и тонкий', 'Дама с собачкой', 'Гроза', 'Таланты и поклонники'],
    'price': [450, 300, 350, 500, 450, 370, 290]
})

book

authors_price = pd.merge(authors, book, on='author_id', how='inner')

authors_stat = pd.DataFrame({ authors_price["author_name"], authors_price["price"].max(), authors_price["price"].min(), authors_price["price"].mean() })
authors_stat 