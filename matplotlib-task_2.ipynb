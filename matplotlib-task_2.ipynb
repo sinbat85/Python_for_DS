#Задание 2
#С помощью функции linspace из библиотеки Numpy создайте массив t из 51 числа от 0 до 10 включительно.
#Создайте массив Numpy под названием f, содержащий косинусы элементов массива t.
#Постройте линейную диаграмму, используя массив t для координат по горизонтали,а массив f - для координат по вертикали. Линия графика должна быть зеленого цвета.
#Выведите название диаграммы - 'График f(t)'. Также добавьте названия для горизонтальной оси - 'Значения t' и для вертикальной - 'Значения f'.
#Ограничьте график по оси x значениями 0.5 и 9.5, а по оси y - значениями -2.5 и 2.5.

import numpy as np
from matplotlib import pyplot as plt
%config InlineBackend.figure_format = 'svg'

title_font = {
    "fontsize": 16,
    "fontweight": "bold",
    "color": "#808080",
    "family": "serif",
}

label_font = {
    "fontsize": 9,
    "family": "serif",
}

plt.title("График f(t)", fontdict=title_font)
plt.xlabel("Переменная x", fontdict=label_font)
plt.ylabel("Значения f", fontdict=label_font)

t = np.linspace(0, 10, 51)

f = np.cos(t)

plt.plot(t, f, color="green")

plt.axis([0.5, 9.5, -2.5, 2.5])

plt.show()
