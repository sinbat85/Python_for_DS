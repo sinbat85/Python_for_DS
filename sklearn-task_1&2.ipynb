#Задание 1
#Импортируйте библиотеки pandas и numpy.
#Загрузите "Boston House Prices dataset" из встроенных наборов данных библиотеки sklearn. Создайте датафреймы X и y из этих данных.
#Разбейте эти датафреймы на тренировочные (X_train, y_train) и тестовые (X_test, y_test) с помощью функции train_test_split так, чтобы размер тестовой выборки
#составлял 30% от всех данных, при этом аргумент random_state должен быть равен 42.
#Создайте модель линейной регрессии под названием lr с помощью класса LinearRegression из модуля sklearn.linear_model.
#Обучите модель на тренировочных данных (используйте все признаки) и сделайте предсказание на тестовых.
#Вычислите R2 полученных предказаний с помощью r2_score из модуля sklearn.metrics.


import warnings
warnings.filterwarnings('ignore')

import numpy as np
import pandas as pd
from sklearn.datasets import load_boston

boston = load_boston()
data = boston["data"]
feature_names = boston["feature_names"]
target = boston["target"]

X = pd.DataFrame(data, columns=feature_names)
y = pd.DataFrame(target, columns=["price"])

from sklearn.model_selection import train_test_split
X_train, X_test, y_train, y_test = train_test_split(X, y, test_size=0.3, random_state=42)

from sklearn.linear_model import LinearRegression
lr = LinearRegression()

lr.fit(X_train, y_train)
y_pred = lr.predict(X_test)

y_pred.shape
check_test = pd.DataFrame({
    "y_test": y_test["price"],
    "y_pred": y_pred.flatten(),
})

from sklearn.metrics import mean_squared_error
mean_squared_error(check_test["y_pred"], check_test["y_test"])
####################################
#Задание 2
#Создайте модель под названием model с помощью RandomForestRegressor из модуля sklearn.ensemble.
#Сделайте агрумент n_estimators равным 1000,
#max_depth должен быть равен 12 и random_state сделайте равным 42.
#Обучите модель на тренировочных данных аналогично тому, как вы обучали модель LinearRegression,
#но при этом в метод fit вместо датафрейма y_train поставьте y_train.values[:, 0],
#чтобы получить из датафрейма одномерный массив Numpy,
#так как для класса RandomForestRegressor в данном методе для аргумента y предпочтительно применение массивов вместо датафрейма.
#Сделайте предсказание на тестовых данных и посчитайте R2. Сравните с результатом из предыдущего задания.
#Напишите в комментариях к коду, какая модель в данном случае работает лучше.

from sklearn.ensemble import RandomForestRegressor

model = RandomForestRegressor(n_estimators=1000, random_state=42, max_depth=12)
model.fit(X_train, y_train.values[:, 0])
y_pred = model.predict(X_test)
print('Root Mean Squared Error:', np.sqrt(mean_squared_error(y_test, y_pred)))